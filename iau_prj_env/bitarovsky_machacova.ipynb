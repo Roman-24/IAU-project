{
 "cells": [
  {
   "cell_type": "code",
   "execution_count": null,
   "id": "f59f30c6-e04b-403b-b238-1db1c2903359",
   "metadata": {},
   "outputs": [],
   "source": [
    "import matplotlib.pyplot as plt\n",
    "import seaborn as sns\n",
    "import pandas as pd\n",
    "import numpy as np\n",
    "import scipy.stats as stats"
   ]
  },
  {
   "cell_type": "code",
   "execution_count": null,
   "id": "45aac9fa-12c1-4ff8-afc1-73e661e666e2",
   "metadata": {},
   "outputs": [],
   "source": [
    "labor = pd.read_csv('../081/measurements.csv', sep='\\t')"
   ]
  },
  {
   "cell_type": "code",
   "execution_count": null,
   "id": "ed104fb3-0dae-4fd6-9bd2-696619fbffc8",
   "metadata": {},
   "outputs": [],
   "source": [
    "labor.head()\n",
    "labor.replace('', np.nan, inplace=True)\n",
    "labor = labor.dropna()"
   ]
  },
  {
   "cell_type": "code",
   "execution_count": null,
   "id": "700c481c-b999-4e7e-97b3-1b0fbc729290",
   "metadata": {},
   "outputs": [],
   "source": [
    "print('Počet záznamov: ', labor.shape[0])\n",
    "print('Počet atribútov: ', labor.shape[1])\n",
    "print('\\nTypy atribútov:')\n",
    "display(labor.dtypes)"
   ]
  },
  {
   "cell_type": "code",
   "execution_count": null,
   "id": "98a9a1ce-10c0-4356-bc17-76af437eab8b",
   "metadata": {},
   "outputs": [],
   "source": [
    "print('Merania pocet duplikatov', len(labor)-len(labor.drop_duplicates()))"
   ]
  },
  {
   "cell_type": "code",
   "execution_count": null,
   "id": "1ff02c6f-27d9-4c2f-aa07-7adc57438ad1",
   "metadata": {},
   "outputs": [],
   "source": [
    "labor['O3'].plot(kind='kde')\n",
    "plt.title('Distribution of O3')\n",
    "plt.xlabel('Percentage')\n"
   ]
  },
  {
   "cell_type": "code",
   "execution_count": null,
   "id": "65f98bd1-d79d-4824-80f0-c4a99cd13e67",
   "metadata": {},
   "outputs": [],
   "source": [
    "labor['CO'].plot(kind='kde')\n",
    "plt.title('Distribution of CO')\n",
    "plt.xlabel('Percentage')"
   ]
  },
  {
   "cell_type": "code",
   "execution_count": null,
   "id": "a92bcfc5-d003-4f43-a628-8b23119b163e",
   "metadata": {},
   "outputs": [],
   "source": [
    "labor_copy = labor.copy(deep=True)\n",
    "labor_copy.drop(labor_copy.columns[0:9], axis=1, inplace=True)\n",
    "labor_copy.drop(labor_copy.columns[4:9], axis=1, inplace=True)\n",
    "#sns.pairplot(labor, hue=\"warning\")"
   ]
  },
  {
   "cell_type": "code",
   "execution_count": null,
   "id": "709ba583-4c88-4551-aaec-0890b6acc8da",
   "metadata": {},
   "outputs": [],
   "source": [
    "sns.heatmap(labor_copy.corr(), annot=True, cmap='coolwarm')"
   ]
  },
  {
   "cell_type": "code",
   "execution_count": null,
   "id": "b8e0e324-2aee-4426-b6b7-853e0724fe6e",
   "metadata": {},
   "outputs": [],
   "source": [
    "labor_stations = pd.read_csv('../081/stations.csv', sep='\\t')\n",
    "labor_stations.drop(labor_stations.columns[1], axis=1, inplace=True)\n",
    "labor_stations.drop(labor_stations.columns[2:4], axis=1, inplace=True)\n",
    "labor_stations.head()\n",
    "#labor_stations.replace('', np.nan, inplace=True)\n",
    "#labor_stations = labor_stations.dropna()"
   ]
  },
  {
   "cell_type": "code",
   "execution_count": null,
   "id": "133b7455-559a-4bda-b71f-2dbcd1619625",
   "metadata": {},
   "outputs": [],
   "source": [
    "print('Stanice pocet duplikatov', len(labor_stations)-len(labor_stations.drop_duplicates()))"
   ]
  },
  {
   "cell_type": "code",
   "execution_count": null,
   "id": "72d084cb-6e73-45c0-a39d-43770ec0b4da",
   "metadata": {},
   "outputs": [],
   "source": [
    "labor_stations = labor_stations.drop_duplicates()"
   ]
  },
  {
   "cell_type": "code",
   "execution_count": null,
   "id": "c59c8d89-9f6e-48a8-a817-50805fed9ff8",
   "metadata": {},
   "outputs": [],
   "source": [
    "print('Počet záznamov: ', labor_stations.shape[0])\n",
    "print('Počet atribútov: ', labor_stations.shape[1])\n",
    "print('\\nTypy atribútov:')\n",
    "display(labor_stations.dtypes)"
   ]
  },
  {
   "cell_type": "code",
   "execution_count": null,
   "id": "d902aab4-4d28-4abd-ac32-25c350a0c279",
   "metadata": {},
   "outputs": [],
   "source": [
    "df = pd.merge(labor, labor_stations, how='inner', left_on=['latitude', 'longitude'], right_on=['latitude', 'longitude'])"
   ]
  },
  {
   "cell_type": "code",
   "execution_count": null,
   "id": "255e14c1-eeb8-46ce-ac08-f844a8922892",
   "metadata": {},
   "outputs": [],
   "source": [
    "df.head()\n",
    "df.drop_duplicates()"
   ]
  },
  {
   "cell_type": "code",
   "execution_count": null,
   "id": "b7225a28-55e0-4aad-a8a3-7c53a7bb2c32",
   "metadata": {},
   "outputs": [],
   "source": [
    "print('Počet záznamov: ', df.shape[0])\n",
    "print('Počet atribútov: ', df.shape[1])\n",
    "print('\\nTypy atribútov:')\n",
    "display(df.dtypes)"
   ]
  },
  {
   "cell_type": "code",
   "execution_count": null,
   "id": "d475058d-8e80-48ea-84a8-c3d136923afe",
   "metadata": {},
   "outputs": [],
   "source": [
    "display(df)"
   ]
  },
  {
   "cell_type": "code",
   "execution_count": null,
   "id": "439135ab-eebf-4646-a18a-10447aa312f7",
   "metadata": {},
   "outputs": [],
   "source": []
  }
 ],
 "metadata": {
  "kernelspec": {
   "display_name": "Python 3 (ipykernel)",
   "language": "python",
   "name": "python3"
  },
  "language_info": {
   "codemirror_mode": {
    "name": "ipython",
    "version": 3
   },
   "file_extension": ".py",
   "mimetype": "text/x-python",
   "name": "python",
   "nbconvert_exporter": "python",
   "pygments_lexer": "ipython3",
   "version": "3.10.6"
  }
 },
 "nbformat": 4,
 "nbformat_minor": 5
}
