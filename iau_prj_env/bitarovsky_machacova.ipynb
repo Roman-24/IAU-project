{
 "cells": [
  {
   "cell_type": "markdown",
   "id": "cf0e5f40-36ba-419d-acc5-919a0e2c02e7",
   "metadata": {},
   "source": [
    "# IAU projekt"
   ]
  },
  {
   "cell_type": "markdown",
   "id": "ecf9a30c-12d1-427c-95e5-33419e1e133a",
   "metadata": {},
   "source": [
    "> Roman Bitarovský, Emma Macháčová"
   ]
  },
  {
   "cell_type": "markdown",
   "id": "72768162",
   "metadata": {},
   "source": [
    "## Table of contents\n",
    "* [Zadanie](#zadanie)\n",
    "    * [Slovníček](#slovnicek)\n",
    "   \n",
    "1. [Fáza 1](#faza1)\n",
    "    1. [Základný opis dát spolu s ich charakteristikami](#zakladnyOpis)\n",
    "        1. [Počet záznamov, počet atribútov, ich typy](#111)\n",
    "        2. [Distribúcie, základné deskriptívne štatistiky a pod.](#112)\n",
    "        3. [Párová analýza dát: vzťahy medzi zvolenými dvojicami atribútov, závislostí medzi dvojicami atribútov, závislosti medzi predikovanou premennou a ostatnými premennými](#113)\n",
    "    2. [Identifikácia problémov v dátach s prvotným riešením](#identifikacia)\n",
    "        1. [Duplicitné záznamy](#121)\n",
    "        2. [Nejednotné formáty](#122)\n",
    "        3. [Chýbajúce hodnoty](#123)\n",
    "        4. [Nevhodná štruktúra dát a data merge](#124)\n",
    "    3. [Formulácia a štatistické overenie hypotéz o dátach](#hypotezy)\n",
    "2. [](#)"
   ]
  },
  {
   "cell_type": "markdown",
   "id": "868109bd-d45e-499b-94c1-d6d8b064a4d1",
   "metadata": {},
   "source": [
    "## Zadanie <a name=\"zadanie\"></a>\n",
    "Znečistenie ovzdušia spôsobuje vážne dýchacie a srdcové ochorenia, ktoré môžu byť smrteľné. Najčastejšie sú postihnuté deti, čo vedie k zápalu pľúc a problémom s dýchaním vrátane astmy. Kyslé dažde, ničenie ozónovej vrstvy a globálne otepľovanie sú niektoré z nepriaznivých dôsledkov. Dátová sada pre Vás (World's Air Pollution: Real-time Air Quality Index https://waqi.info/) predstavuje záznamy jednotlivých meraní kvality ovzdušia ako kombinácia mnohých faktorov bez časovej následnosti. V záznamoch je závislá premenná s menom “warning” indikujúca alarmujúci stav kvality ovzdušia. Vo veľkých mestách ako napr. Peking (angl. Beijing, hlavné mesto Číny s viac ako 21 miliónov ľudí) sa pri varovaní spustí opatrenie ako obmedzenie pohybov áut a ľudí v meste alebo umelý dážď až pokiaľ kvalita vzduchu sa nevráti do normu.\n",
    "\n",
    "* Úlohou je predikovať závislé hodnoty premennej “warning” pomocou metód strojového učenia.\n",
    "* Pritom sa treba vysporiadať s viacerými problémami, ktoré sa v dátach nachádzajú ako formáty dát, chýbajúce, vychýlené hodnoty a pod.\n"
   ]
  },
  {
   "cell_type": "markdown",
   "id": "c655a107-b64a-43f4-b126-4ce29b52b7c6",
   "metadata": {},
   "source": [
    "### Slovníček  <a name=\"slovnicek\"></a>\n",
    "<details>\n",
    "    <summary>Zobraziť</summary>\n",
    "    \n",
    "    PM2.5 - Particulate Matter (µg/m3) \n",
    "    PM10 - Particulate Matter (µg/m3) \n",
    "    NOx - Nitrogen Oxides (µg/m3)\n",
    "    NO2 - Nitrogen Dioxide (µg/m3)\n",
    "    SO2 - Sulfur Dioxide  (µg/m3)\n",
    "    CO - Carbon Monoxide emissions  (µg/m3)\n",
    "    CO2 - Carbon Dioxide  (µg/m3)\n",
    "    PAHs - Polycyclic Aromatic Hydrocarbons  (µg/m3)\n",
    "    NH3 - Ammonia trace  (µg/m3)\n",
    "    Pb - Lead  (µg/m3)\n",
    "    TEMP - Temperature (degree Celsius)\n",
    "    DEWP - Dew point temperature (degree Celsius)\n",
    "    PRES - Pressure (hPa, <100, 1050>)\n",
    "    RAIN - Rain (mm)\n",
    "    WSPM - Wind Speed (m/s)\n",
    "    WD - Wind Direction\n",
    "    VOC - Volatile Organic Compounds\n",
    "    CFCs - Chlorofluorocarbons\n",
    "    C2H3NO5 - Peroxyacetyl nitrate\n",
    "    H2CO - Plywood emit formaldehyde\n",
    "    GSTM1 - Glutathione-S transferase M1\n",
    "    1-OHP - 1-hydroxypyrene\n",
    "    2-OHF - 2-hydroxyfluorene\n",
    "    2-OHNa - 2-hydroxynaphthalene\n",
    "    N2 - Nitrogen\n",
    "    O2 - Oxygen\n",
    "    O3 - Ozone\n",
    "    Ar - Argon\n",
    "    Ne - Neon\n",
    "    CH4 - Methane\n",
    "    He - Helium\n",
    "    Kr - Krypton\n",
    "    I2 - Iodine\n",
    "    H2 - Hydrogen\n",
    "    Xe - Xenon\n",
    "</details>"
   ]
  },
  {
   "cell_type": "markdown",
   "id": "bc5f3368-24df-4366-89ec-e8b6c15af9bc",
   "metadata": {},
   "source": [
    "## Data init"
   ]
  },
  {
   "cell_type": "code",
   "execution_count": null,
   "id": "f59f30c6-e04b-403b-b238-1db1c2903359",
   "metadata": {},
   "outputs": [],
   "source": [
    "import matplotlib.pyplot as plt\n",
    "import seaborn as sns\n",
    "import pandas as pd\n",
    "import numpy as np\n",
    "import scipy.stats as stats\n",
    "from scipy.stats import mannwhitneyu\n",
    "from scipy.stats import f_oneway"
   ]
  },
  {
   "cell_type": "code",
   "execution_count": null,
   "id": "45aac9fa-12c1-4ff8-afc1-73e661e666e2",
   "metadata": {},
   "outputs": [],
   "source": [
    "labor_measurements = pd.read_csv('../081/measurements.csv', sep='\\t')\n",
    "labor_stations = pd.read_csv('../081/stations.csv', sep='\\t')"
   ]
  },
  {
   "cell_type": "markdown",
   "id": "4235b298-412f-41cd-8bd8-b8d2b3f64f20",
   "metadata": {},
   "source": [
    "## Fáza 1  <a name=\"faza1\"></a>\n",
    "### 1.1 Základný opis dát spolu s ich charakteristikami (5b) <br>  <a name=\"zakladnyOpis\"></a>\n",
    "V tejto fáze uveďte:\n",
    "* Počet záznamov, počet atribútov, ich typy,\n",
    "* Pre zvolené významné atribúty ich distribúcie, základné deskriptívne štatistiky a pod.\n",
    "* Párová analýza dát: preskúmajte vzťahy medzi zvolenými dvojicami atribútov. \n",
    "* Párová analýza dát: Identifikujte závislostí medzi dvojicami atribútov (napr. korelácie)\n",
    "* Párová analýza dát: Identifikujte závislosti medzi predikovanou premennou a ostatnými premennými (potenciálnymi prediktormi)."
   ]
  },
  {
   "cell_type": "code",
   "execution_count": null,
   "id": "ed104fb3-0dae-4fd6-9bd2-696619fbffc8",
   "metadata": {},
   "outputs": [],
   "source": [
    "labor_measurements.head()"
   ]
  },
  {
   "cell_type": "markdown",
   "id": "2fa942be",
   "metadata": {},
   "source": [
    "#### 1.1.1 Počet záznamov, počet atribútov, ich typy <a name=\"111\"></a>"
   ]
  },
  {
   "cell_type": "code",
   "execution_count": null,
   "id": "700c481c-b999-4e7e-97b3-1b0fbc729290",
   "metadata": {},
   "outputs": [],
   "source": [
    "print('Počet záznamov: ', labor_measurements.shape[0])\n",
    "print('Počet atribútov: ', labor_measurements.shape[1])\n",
    "print('\\nTypy atribútov:')\n",
    "display(labor_measurements.dtypes)"
   ]
  },
  {
   "cell_type": "code",
   "execution_count": null,
   "id": "f03c6372-cf9a-4b91-96e9-e2170bebc930",
   "metadata": {},
   "outputs": [],
   "source": [
    "labor_measurements.describe()"
   ]
  },
  {
   "cell_type": "code",
   "execution_count": null,
   "id": "fbe2f876-ae68-4ec6-be9b-b665f54e7071",
   "metadata": {},
   "outputs": [],
   "source": [
    "labor_stations.head()"
   ]
  },
  {
   "cell_type": "code",
   "execution_count": null,
   "id": "ada0b0bb-09a3-449a-8d01-81035c24d595",
   "metadata": {},
   "outputs": [],
   "source": [
    "print('Počet záznamov: ', labor_stations.shape[0])\n",
    "print('Počet atribútov: ', labor_stations.shape[1])\n",
    "print('\\nTypy atribútov:')\n",
    "display(labor_stations.dtypes)"
   ]
  },
  {
   "cell_type": "code",
   "execution_count": null,
   "id": "065029bb-9db5-4867-948c-d73cd5197696",
   "metadata": {},
   "outputs": [],
   "source": [
    "labor_stations.describe()"
   ]
  },
  {
   "cell_type": "markdown",
   "id": "e2107db3-9203-4ebd-8394-d971a2076a19",
   "metadata": {},
   "source": [
    "### 1.2. Identifikácia problémov v dátach s prvotným riešením (5b)  <a name=\"identifikacia\"></a>\n",
    "* Identifikujte problémy v dátach napr.: \n",
    "    * nevhodná štruktúra dát, \n",
    "    * duplicitné záznamy, \n",
    "    * nejednotné formáty, \n",
    "    * chýbajúce hodnoty, \n",
    "    * vychýlené hodnoty,\n",
    "    * v dátach sa môžu nachádzať aj iné, tu nevymenované problémy. \n",
    "* Navrhnuté riešenie problémov s dátami prvotne realizujte na dátach. Problémy s dátami môžete riešiť iteratívne v každej fáze aj vo všetkých fázach podľa Vašej potreby."
   ]
  },
  {
   "cell_type": "markdown",
   "id": "80349bbc-009c-4446-a117-ab4fd4b11f8f",
   "metadata": {},
   "source": [
    "#### 1.2.1 Duplicitné záznamy <a name=\"121\"></a>"
   ]
  },
  {
   "cell_type": "code",
   "execution_count": null,
   "id": "fd3ccbdd-e41e-4250-a13b-c1103dc5aa3b",
   "metadata": {},
   "outputs": [],
   "source": [
    "if (labor_measurements.duplicated().any()):\n",
    "    print('labor_measurements pocet duplikatov', len(labor_measurements)-len(labor_measurements.drop_duplicates()))\n",
    "else:\n",
    "    print('labor_measurements no duplicates')"
   ]
  },
  {
   "cell_type": "code",
   "execution_count": null,
   "id": "7c9bcab8-aa0c-4e1b-a4ca-fb867657f243",
   "metadata": {},
   "outputs": [],
   "source": [
    "if (labor_stations.duplicated().any()):\n",
    "    print('labor_stations pocet duplikatov', len(labor_stations)-len(labor_stations.drop_duplicates()))\n",
    "else:\n",
    "    print('labor_stations no duplicates')"
   ]
  },
  {
   "cell_type": "markdown",
   "id": "6d8b0c10-ffc7-4f87-afc9-66cec2d238e7",
   "metadata": {},
   "source": [
    "#### 1.2.2 Nejednotné formáty <a name=\"122\"></a>"
   ]
  },
  {
   "cell_type": "code",
   "execution_count": null,
   "id": "68dac9a8-482e-423c-9922-690ee7935ccc",
   "metadata": {},
   "outputs": [],
   "source": [
    "labor_stations.columns.values"
   ]
  },
  {
   "cell_type": "code",
   "execution_count": null,
   "id": "e01cc6df-2b3f-46f0-987c-d3901370d0be",
   "metadata": {},
   "outputs": [],
   "source": [
    "qos_count = labor_stations['QoS'].value_counts()\n",
    "qos_count"
   ]
  },
  {
   "cell_type": "code",
   "execution_count": null,
   "id": "002b3e61-2322-47e2-978c-37f1945ccd36",
   "metadata": {},
   "outputs": [],
   "source": [
    "revision_count = labor_stations['revision'].value_counts()\n",
    "revision_count"
   ]
  },
  {
   "cell_type": "markdown",
   "id": "e0df773f-abbf-4825-9d4a-6a326bf093b8",
   "metadata": {},
   "source": [
    "#### 1.2.3 Chýbajúce hodnoty <a name=\"123\"></a>"
   ]
  },
  {
   "cell_type": "code",
   "execution_count": null,
   "id": "fb783c49-665c-45b5-981f-45bffc29aacb",
   "metadata": {},
   "outputs": [],
   "source": [
    "labor_measurements.replace('', np.nan, inplace=True)"
   ]
  },
  {
   "cell_type": "code",
   "execution_count": null,
   "id": "bd089694-e55b-4e69-807e-88996f079295",
   "metadata": {},
   "outputs": [],
   "source": [
    "labor_stations.replace('', np.nan, inplace=True)"
   ]
  },
  {
   "cell_type": "code",
   "execution_count": null,
   "id": "74df8eb9-fc90-4de6-8a4d-209a959fddfb",
   "metadata": {},
   "outputs": [],
   "source": [
    "temp = labor_measurements.shape[0] - labor_measurements.dropna().shape[0]\n",
    "print('Chýbajúce hodnoty pre labor_measurements: ', temp)"
   ]
  },
  {
   "cell_type": "code",
   "execution_count": null,
   "id": "47ea9022-5b22-4822-8b92-26b2a5fdef1b",
   "metadata": {},
   "outputs": [],
   "source": [
    "temp = labor_stations.shape[0] - labor_stations.dropna().shape[0]\n",
    "print('Chýbajúce hodnoty pre labor_stations: ', temp)"
   ]
  },
  {
   "cell_type": "markdown",
   "id": "e07b830e-2679-4495-a983-09806934d3fc",
   "metadata": {},
   "source": [
    "#### 1.2.4. Nevhodná štruktúra dát a data merge <a name=\"124\"></a>\n",
    "Najskôr dropneme zo labor_stations nepotrebné stĺpce a následne aj duplikáty"
   ]
  },
  {
   "cell_type": "code",
   "execution_count": null,
   "id": "06f0981f-0c5d-45d0-9aab-679d010667ff",
   "metadata": {},
   "outputs": [],
   "source": [
    "labor_stations.drop(labor_stations.columns[1], axis=1, inplace=True)\n",
    "labor_stations.drop(labor_stations.columns[2:4], axis=1, inplace=True)\n",
    "labor_stations.head()"
   ]
  },
  {
   "cell_type": "markdown",
   "id": "8c7fc6e1-8c68-418a-bec5-8e4ded7d0128",
   "metadata": {},
   "source": [
    "Následne vykonáme merge na základe súradníc"
   ]
  },
  {
   "cell_type": "code",
   "execution_count": null,
   "id": "16d0b2c5-5a47-4f8e-8ab7-2f6e0ad04d59",
   "metadata": {},
   "outputs": [],
   "source": [
    "# Table merge\n",
    "df = pd.merge(labor_measurements, labor_stations, how='inner', left_on=['latitude', 'longitude'], right_on=['latitude', 'longitude'])"
   ]
  },
  {
   "cell_type": "markdown",
   "id": "2e249152-d1c1-46b6-bf26-152492b5d94c",
   "metadata": {},
   "source": [
    "Dropneme stĺpce obahujúce súradnice lebo ich už viac nepotrebujem vzhľadom na stĺpec location"
   ]
  },
  {
   "cell_type": "code",
   "execution_count": null,
   "id": "72ae66b3-1052-40e3-b315-8e9372b6d447",
   "metadata": {
    "tags": []
   },
   "outputs": [],
   "source": [
    "df = df.drop(columns=['latitude', 'longitude'])"
   ]
  },
  {
   "cell_type": "markdown",
   "id": "aecfba23-3d2a-4669-a076-e1171429d572",
   "metadata": {},
   "source": [
    "Dropneme neplatné hodnoty"
   ]
  },
  {
   "cell_type": "code",
   "execution_count": null,
   "id": "dc892cf9-2559-46fc-a220-badb1fe06d5c",
   "metadata": {},
   "outputs": [],
   "source": [
    "# df = df.dropna()\n",
    "# toto zatial nechame lebo sa mohla viac krat namerat tá ista hodnota v inom case\n",
    "# df.drop_duplicates()"
   ]
  },
  {
   "cell_type": "code",
   "execution_count": null,
   "id": "f03018b9-57d1-4646-9ce4-7f27c4dec3ac",
   "metadata": {},
   "outputs": [],
   "source": [
    "print('Počet záznamov: ', df.shape[0])\n",
    "print('Počet atribútov: ', df.shape[1])\n",
    "print('\\nTypy atribútov:')\n",
    "display(df.dtypes)"
   ]
  },
  {
   "cell_type": "markdown",
   "id": "0b814d33-836a-49d2-8d7e-463c93c34283",
   "metadata": {},
   "source": [
    "Reorganizujeme poradie stĺpcov"
   ]
  },
  {
   "cell_type": "code",
   "execution_count": null,
   "id": "3f85ee77-13eb-4262-8f34-d96ea2553bcc",
   "metadata": {},
   "outputs": [],
   "source": [
    "df.columns.values\n",
    "df = df[['location', 'warning', 'TEMP', 'PRES', 'PM2.5', 'NOx', 'PM10', 'C2H3NO5', 'CH4', 'Pb', 'NH3', 'SO2', 'O3', 'CO', 'PAHs', 'H2CO', 'CFCs']]"
   ]
  },
  {
   "cell_type": "code",
   "execution_count": null,
   "id": "007958ff-0449-4bbd-8a12-cb7fa8cd1907",
   "metadata": {},
   "outputs": [],
   "source": [
    "df.head()"
   ]
  },
  {
   "cell_type": "code",
   "execution_count": null,
   "id": "697ec9a6-eab4-4c90-b46a-cdef535f7ead",
   "metadata": {},
   "outputs": [],
   "source": [
    "df.info()"
   ]
  },
  {
   "cell_type": "code",
   "execution_count": null,
   "id": "1040cad8-cee0-4d07-8595-afae87590c0e",
   "metadata": {},
   "outputs": [],
   "source": [
    "war_count = df['warning'].value_counts()\n",
    "war_count"
   ]
  },
  {
   "cell_type": "code",
   "execution_count": null,
   "id": "7ee86002-5c45-4e4f-b4cb-482fa9cf41d8",
   "metadata": {},
   "outputs": [],
   "source": [
    "war_count.plot(kind='pie', title='Warning visual ratio')"
   ]
  },
  {
   "cell_type": "markdown",
   "id": "c4b151b8",
   "metadata": {},
   "source": [
    "#### 1.1.2 Distribúcie, základné deskriptívne štatistiky a pod. <a name=\"112\"></a>"
   ]
  },
  {
   "cell_type": "code",
   "execution_count": null,
   "id": "984f6058-c861-47b6-831c-f2d979a86f77",
   "metadata": {},
   "outputs": [],
   "source": [
    "df.loc[:, df.columns.difference([\"index\"])].hist(sharex=False, sharey=False, figsize=(20, 40), bins=50)"
   ]
  },
  {
   "cell_type": "code",
   "execution_count": null,
   "id": "fa70a740-37c9-42cd-b9b8-c1b83799f8bb",
   "metadata": {},
   "outputs": [],
   "source": [
    "# jediná nenormálová zaujímavá distribúcia\n",
    "df['C2H3NO5'].plot(kind='kde')\n",
    "plt.title('Distribution of O3')\n",
    "plt.xlabel('Percentage')"
   ]
  },
  {
   "cell_type": "code",
   "execution_count": null,
   "id": "da993d74-0829-4a48-ba5e-4b17012db549",
   "metadata": {},
   "outputs": [],
   "source": [
    "df.loc[:, df.columns.difference([\"index\"])].plot(kind='box', subplots=True, sharex=False, sharey=False, figsize=(60, 20), layout=(4, 4))"
   ]
  },
  {
   "cell_type": "markdown",
   "id": "8980fa49",
   "metadata": {},
   "source": [
    "#### 1.1.3 Párová analýza dát <a name=\"113\"></a>"
   ]
  },
  {
   "cell_type": "code",
   "execution_count": null,
   "id": "d475058d-8e80-48ea-84a8-c3d136923afe",
   "metadata": {},
   "outputs": [],
   "source": [
    "#sns.pairplot(df, hue=\"warning\")   # toto asi odkomentovat potom"
   ]
  },
  {
   "cell_type": "code",
   "execution_count": null,
   "id": "5066d8f4-d114-4b53-92a0-1084bc8c1ff7",
   "metadata": {},
   "outputs": [],
   "source": [
    "# analysis of correlations\n",
    "df_nums_only = df.copy()\n",
    "df_nums_only = df_nums_only.drop(columns=['location'])\n",
    "df_nums_only_corr = df_nums_only.corr()"
   ]
  },
  {
   "cell_type": "code",
   "execution_count": null,
   "id": "7ab5505b-6480-492f-b76d-07f3844fa5a7",
   "metadata": {
    "scrolled": true
   },
   "outputs": [],
   "source": [
    "fig, ax = plt.subplots(figsize=(18,15))\n",
    "sns.heatmap(df_nums_only_corr, ax=ax, annot=True, cmap='coolwarm')"
   ]
  },
  {
   "cell_type": "code",
   "execution_count": null,
   "id": "9b6b144b-1126-4738-a08b-90d4bb9f6c08",
   "metadata": {},
   "outputs": [],
   "source": [
    "df_nums_only_corr[((df_nums_only_corr >= 0.39) | (df_nums_only_corr <= -0.39)) & (df_nums_only_corr != 1)]"
   ]
  },
  {
   "cell_type": "code",
   "execution_count": null,
   "id": "6270ce67",
   "metadata": {},
   "outputs": [],
   "source": [
    "fig, ax = plt.subplots(figsize=(10,5))\n",
    "sns.heatmap(df_nums_only_corr[((df_nums_only_corr >= 0.32) | (df_nums_only_corr <= -0.32)) & (df_nums_only_corr != 1)], ax=ax, annot=True, cmap='coolwarm')"
   ]
  },
  {
   "cell_type": "markdown",
   "id": "288ff78b",
   "metadata": {},
   "source": [
    "Významnejšie korelácie sa javia byť medzi týmito atribútmi:\n",
    "* PM2.5 - PM10\n",
    "* PM10 - NH3\n",
    "* PM10 - C2H3NO5"
   ]
  },
  {
   "cell_type": "code",
   "execution_count": null,
   "id": "ab91f1be-8e9c-4210-8e76-ac19eb7095cb",
   "metadata": {},
   "outputs": [],
   "source": [
    "# nič moc korelácia\n",
    "sns.scatterplot(x=df_nums_only['PM10'], y=df_nums_only['PM2.5'], hue=df_nums_only['warning'])"
   ]
  },
  {
   "cell_type": "code",
   "execution_count": null,
   "id": "976353dd-9004-4f29-b61f-34a567a6a1f4",
   "metadata": {},
   "outputs": [],
   "source": [
    "# nič moc korelácia\n",
    "sns.scatterplot(x=df_nums_only['NH3'], y=df_nums_only['PM10'], hue=df_nums_only['warning'])"
   ]
  },
  {
   "cell_type": "code",
   "execution_count": null,
   "id": "d2ffe5c0-569a-4754-b177-ef99d23cf8a1",
   "metadata": {},
   "outputs": [],
   "source": [
    "# good korelácia\n",
    "sns.scatterplot(x=df_nums_only['C2H3NO5'], y=df_nums_only['PM10'], hue=df_nums_only['warning'])"
   ]
  },
  {
   "cell_type": "code",
   "execution_count": null,
   "id": "2b954d2d",
   "metadata": {},
   "outputs": [],
   "source": [
    "corr1=df['warning'].corr(df['C2H3NO5'])\n",
    "corr2=df['warning'].corr(df['PM10'])\n",
    "corr3=df['PM10'].corr(df['C2H3NO5'])\n",
    "print(corr1, corr2, corr3)"
   ]
  },
  {
   "cell_type": "code",
   "execution_count": null,
   "id": "4bb53783",
   "metadata": {},
   "outputs": [],
   "source": [
    "g = sns.displot(\n",
    "    data=df, y=\"TEMP\", hue=\"warning\", col=\"C2H3NO5\",\n",
    "    kind=\"kde\", height=4, aspect=.7,\n",
    ")\n",
    "g.set_axis_labels(\"Density (a.u.)\", \"Temperature (Celsius)\")\n",
    "g.set_titles(\"{col_name} df\")"
   ]
  },
  {
   "cell_type": "markdown",
   "id": "96723f2c",
   "metadata": {},
   "source": [
    "### 1.3 Formulácia a štatistické overenie hypotéz o dátach (5b) <br> <a name=\"hypotezy\"></a>\n",
    "* Sformulujte dve hypotézy o dátach v kontexte zadanej predikčnej úlohy. \n",
    "* Príklad formulovania hypotézy: merania kvality ovzdušia v kritickom stave majú v priemere inú (vyššiu/nižšiu) hodnotu určitej chemikálie (alebo koncentrácie látok) ako merania kvality ovzdušia v normálnom stave.\n",
    "* Sformulované hypotézy overte vhodne zvoleným štatistickým testom.\n"
   ]
  },
  {
   "cell_type": "code",
   "execution_count": null,
   "id": "fa05ebbc",
   "metadata": {},
   "outputs": [],
   "source": [
    "import warnings\n",
    "warnings.filterwarnings(\"ignore\", category=UserWarning) "
   ]
  },
  {
   "cell_type": "markdown",
   "id": "cc7a028c",
   "metadata": {},
   "source": [
    "> #### Hypotéza 1: Merania kvality ovzdušia majú v kritickom stave v priemere vyššiu hodnotu látky C2H3NO5\n",
    "> H0 - merania kvality ovzdušia majú v kritickom stave v priemere vyššiu hodnotu látky C2H3NO5 <br>\n",
    "> H1 - merania kvality ovzdušia nemajú v kritickom stave v priemere vyššiu hodnotu látky C2H3NO5"
   ]
  },
  {
   "cell_type": "code",
   "execution_count": null,
   "id": "37825bd8",
   "metadata": {},
   "outputs": [],
   "source": [
    "gas_warning = df[df[\"warning\"] == 1.0]\n",
    "gas_no_warning = df[df[\"warning\"] == 0]     "
   ]
  },
  {
   "cell_type": "code",
   "execution_count": null,
   "id": "dd07bb97",
   "metadata": {},
   "outputs": [],
   "source": [
    "print (\"vyskyt nan vo vyberoch:\", gas_warning['C2H3NO5'].isnull().values.any(), gas_no_warning['C2H3NO5'].isnull().values.any())"
   ]
  },
  {
   "cell_type": "code",
   "execution_count": null,
   "id": "9ab79904",
   "metadata": {},
   "outputs": [],
   "source": [
    "gas_warning = gas_warning[df.C2H3NO5.notnull()]\n",
    "gas_no_warning = gas_no_warning[df.C2H3NO5.notnull()]"
   ]
  },
  {
   "cell_type": "code",
   "execution_count": null,
   "id": "7f166dba",
   "metadata": {},
   "outputs": [],
   "source": [
    "print (\"vyskyt nan vo vyberoch:\", gas_warning['C2H3NO5'].isnull().values.any(), gas_no_warning['C2H3NO5'].isnull().values.any())"
   ]
  },
  {
   "cell_type": "code",
   "execution_count": null,
   "id": "af073dda",
   "metadata": {},
   "outputs": [],
   "source": [
    "gas_warning_list = gas_warning['C2H3NO5'].tolist()\n",
    "gas_no_warning_list = gas_no_warning['C2H3NO5'].tolist()"
   ]
  },
  {
   "cell_type": "markdown",
   "id": "5220fbeb",
   "metadata": {},
   "source": [
    "##### Test normality"
   ]
  },
  {
   "cell_type": "code",
   "execution_count": null,
   "id": "9cf6f96b",
   "metadata": {},
   "outputs": [],
   "source": [
    "st1 = stats.shapiro(gas_warning_list)\n",
    "st2 = stats.shapiro(gas_no_warning_list)\n",
    "\n",
    "print(st1, st2)"
   ]
  },
  {
   "cell_type": "markdown",
   "id": "5460fec7",
   "metadata": {},
   "source": [
    "Mann Whitney U test"
   ]
  },
  {
   "cell_type": "code",
   "execution_count": null,
   "id": "744ab13c",
   "metadata": {},
   "outputs": [],
   "source": [
    "#mannwhitneyu(gas_warning_list, gas_no_warning_list, method=\"exact\")   # toto treba nejak zredukovat data lebo to nezbehne"
   ]
  },
  {
   "cell_type": "markdown",
   "id": "3abf7cf3",
   "metadata": {},
   "source": [
    "##### Kruskalov test"
   ]
  },
  {
   "cell_type": "code",
   "execution_count": null,
   "id": "8f645322",
   "metadata": {},
   "outputs": [],
   "source": [
    "stats.kruskal(gas_warning_list, gas_no_warning_list)   # neviem ci na toto nemusia byt z normalneho"
   ]
  },
  {
   "cell_type": "markdown",
   "id": "2d1536c8",
   "metadata": {},
   "source": [
    "##### Analysis of variance test"
   ]
  },
  {
   "cell_type": "code",
   "execution_count": null,
   "id": "f71c7a43",
   "metadata": {},
   "outputs": [],
   "source": [
    "f_oneway(gas_warning_list, gas_no_warning_list)    # neviem ci na toto nemusia byt z normalneho"
   ]
  },
  {
   "cell_type": "markdown",
   "id": "6764d4e7",
   "metadata": {},
   "source": [
    "##### Plots"
   ]
  },
  {
   "cell_type": "code",
   "execution_count": null,
   "id": "d9ccd872",
   "metadata": {},
   "outputs": [],
   "source": [
    "sns.distplot(gas_warning_list)"
   ]
  },
  {
   "cell_type": "code",
   "execution_count": null,
   "id": "4c4a84a2",
   "metadata": {},
   "outputs": [],
   "source": [
    "sns.distplot(gas_no_warning_list)"
   ]
  },
  {
   "cell_type": "code",
   "execution_count": null,
   "id": "3ea5b3fb",
   "metadata": {},
   "outputs": [],
   "source": [
    "df.boxplot(by ='warning', column =['C2H3NO5'], grid = True)"
   ]
  },
  {
   "cell_type": "markdown",
   "id": "a71fea78",
   "metadata": {},
   "source": [
    "> Na základe testu vyvraciame alternatívnu hypotézu v prospech nulovej hypotézy, a teda nulovú hypotézu akceptujeme. # asi"
   ]
  },
  {
   "cell_type": "code",
   "execution_count": null,
   "id": "c21fe33c",
   "metadata": {},
   "outputs": [],
   "source": []
  }
 ],
 "metadata": {
  "kernelspec": {
   "display_name": "Python 3 (ipykernel)",
   "language": "python",
   "name": "python3"
  },
  "language_info": {
   "codemirror_mode": {
    "name": "ipython",
    "version": 3
   },
   "file_extension": ".py",
   "mimetype": "text/x-python",
   "name": "python",
   "nbconvert_exporter": "python",
   "pygments_lexer": "ipython3",
   "version": "3.10.2"
  }
 },
 "nbformat": 4,
 "nbformat_minor": 5
}
