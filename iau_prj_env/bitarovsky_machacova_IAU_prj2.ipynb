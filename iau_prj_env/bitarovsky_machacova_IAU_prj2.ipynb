{
 "cells": [
  {
   "cell_type": "markdown",
   "id": "03800150-2d8f-4045-a693-1d21b59e804d",
   "metadata": {},
   "source": [
    "# IAU projekt"
   ]
  },
  {
   "cell_type": "markdown",
   "id": "88b4c4ea-39f7-4166-95e3-e8f91e4d949f",
   "metadata": {},
   "source": [
    "> Rovnakým podieľom práce vypracovali: <br>\n",
    "> Roman Bitarovský, Emma Macháčová"
   ]
  },
  {
   "cell_type": "markdown",
   "id": "401c29c6-7f8c-4695-9b9e-1260fe82777d",
   "metadata": {},
   "source": [
    "# Fáza 2 Predspracovanie údajov <a name=\"faza2\"></a>\n",
    "## 2.1 Integrácia a čistenie dát (5b) <a name=\"\"></a>\n",
    "Transformujte dáta na vhodný formát pre strojové učenie t.j. jedno pozorovanie musí byť opísané jedným riadkom a každý atribút musí byť v numerickom formáte. \n",
    "* Pri riešení chýbajúcich hodnôt (missing values) vyskúšajte rôzne stratégie ako napr.\n",
    "    * odstránenie pozorovaní s chýbajúcimi údajmi\n",
    "    * nahradenie chýbajúcej hodnoty mediánom, priemerom, pomerom (ku korelovanému atribútu), alebo pomocou lineárnej regresie resp. kNN\n",
    "* Podobne postupujte aj pri riešení vychýlených hodnôt (outlier detection):\n",
    "    * odstránenie vychýlených (odľahlých) pozorovaní\n",
    "    * nahradenie vychýlenej hodnoty hraničnými hodnotami rozdelenia (5% resp. 95%)"
   ]
  },
  {
   "cell_type": "code",
   "execution_count": 1,
   "id": "08a449a6-83ed-4172-a866-1de19b8fa8f0",
   "metadata": {},
   "outputs": [
    {
     "ename": "NameError",
     "evalue": "name 'pause' is not defined",
     "output_type": "error",
     "traceback": [
      "\u001b[0;31m---------------------------------------------------------------------------\u001b[0m",
      "\u001b[0;31mNameError\u001b[0m                                 Traceback (most recent call last)",
      "Cell \u001b[0;32mIn [1], line 1\u001b[0m\n\u001b[0;32m----> 1\u001b[0m \u001b[43mpause\u001b[49m\n",
      "\u001b[0;31mNameError\u001b[0m: name 'pause' is not defined"
     ]
    }
   ],
   "source": [
    "pause"
   ]
  },
  {
   "cell_type": "code",
   "execution_count": null,
   "id": "62d53e1b-f4d7-46b4-956f-bbd90a8a3037",
   "metadata": {},
   "outputs": [],
   "source": [
    "# čo sa myslí tou transformáciou dát na jeden riadok ? "
   ]
  },
  {
   "cell_type": "markdown",
   "id": "8344e4ef-bf7a-4a03-9614-b6f3f23fa673",
   "metadata": {},
   "source": [
    "# Data init"
   ]
  },
  {
   "cell_type": "code",
   "execution_count": null,
   "id": "d3283a09-1bbb-4c16-9a19-e162077e5e62",
   "metadata": {},
   "outputs": [],
   "source": [
    "import matplotlib.pyplot as plt\n",
    "import seaborn as sns\n",
    "import pandas as pd\n",
    "import numpy as np\n",
    "import scipy.stats as stats\n",
    "import statsmodels.api as sm\n",
    "import statsmodels.stats.api as sms\n",
    "import statsmodels.stats as sm_stats\n",
    "from scipy.stats import mannwhitneyu\n",
    "from scipy.stats import f_oneway\n",
    "\n",
    "import datetime\n",
    "import re\n",
    "import category_encoders as ce\n",
    "from sklearn.impute import SimpleImputer, KNNImputer\n",
    "from numpy import percentile\n",
    "\n",
    "from sklearn.preprocessing import PowerTransformer, QuantileTransformer\n",
    "\n",
    "from sklearn.feature_selection import VarianceThreshold, SelectKBest, SelectPercentile, SelectFromModel\n",
    "from sklearn.feature_selection import mutual_info_regression, chi2, f_regression, f_classif\n",
    "from sklearn.ensemble import RandomForestClassifier\n",
    "\n",
    "from sklearn.preprocessing import StandardScaler, MinMaxScaler\n",
    "\n",
    "from sklearn.base import TransformerMixin\n",
    "from sklearn.pipeline import Pipeline\n",
    "from sklearn.model_selection import train_test_split"
   ]
  },
  {
   "cell_type": "code",
   "execution_count": null,
   "id": "d22d4502-5363-424b-bc0b-7defa57eda63",
   "metadata": {},
   "outputs": [],
   "source": [
    "labor_measurements = pd.read_csv('../081/measurements.csv', sep='\\t')\n",
    "labor_stations = pd.read_csv('../081/stations.csv', sep='\\t')"
   ]
  },
  {
   "cell_type": "code",
   "execution_count": null,
   "id": "aa77e3ec-c960-411d-846b-20b5e3ae3d9f",
   "metadata": {},
   "outputs": [],
   "source": [
    "labor_stations[\"QoS\"].replace({\"acceptable\": \"accep\", \"maitennce\": \"maintenance\"}, inplace=True)\n",
    "labor_stations['revision'] = pd.to_datetime(labor_stations['revision'], utc=False)\n",
    "\n",
    "labor_measurements.replace('', np.nan, inplace=True)\n",
    "labor_stations.replace('', np.nan, inplace=True)\n",
    "\n",
    "labor_measurements = labor_measurements.drop_duplicates()\n",
    "labor_stations = labor_stations.drop_duplicates()\n",
    "\n",
    "# merge preprocesing\n",
    "labor_stations = labor_stations.drop(columns=['revision', 'code', 'QoS'])\n",
    "labor_stations = labor_stations.drop_duplicates()\n",
    "\n",
    "# Table merge\n",
    "df = pd.merge(labor_measurements, labor_stations, how='inner', left_on=['latitude', 'longitude'], right_on=['latitude', 'longitude'])\n",
    "\n",
    "df = df.drop(columns=['latitude', 'longitude'])\n",
    "df = df[['location', 'warning', 'TEMP', 'PRES', 'PM2.5', 'NOx', 'PM10', 'C2H3NO5', 'CH4', 'Pb', 'NH3', 'SO2', 'O3', 'CO', 'PAHs', 'H2CO', 'CFCs']]\n",
    "\n",
    "df.head()"
   ]
  },
  {
   "cell_type": "code",
   "execution_count": null,
   "id": "a45ffb9e-c8cb-4fce-94dc-b0e1019562a4",
   "metadata": {},
   "outputs": [],
   "source": [
    "df.info()"
   ]
  },
  {
   "cell_type": "markdown",
   "id": "152fcea4-5c44-4e01-9a8b-7774d5958daa",
   "metadata": {},
   "source": [
    "## Replacing NaNs"
   ]
  },
  {
   "cell_type": "code",
   "execution_count": null,
   "id": "c4357159-63ef-47f4-b571-5991077a210c",
   "metadata": {},
   "outputs": [],
   "source": [
    "def replaceNaN(df_original, strategy):\n",
    "    df = df_original.copy()\n",
    "\n",
    "    na_cols = df.columns[df.isnull().any()].tolist()\n",
    "    \n",
    "    if strategy == 'kNN':\n",
    "        imp_strategy = KNNImputer(n_neighbors=5, weights='uniform', metric='nan_euclidean')\n",
    "\n",
    "    elif strategy == 'mean' or strategy == 'median':    \n",
    "        imp_strategy = SimpleImputer(missing_values=np.nan, strategy=strategy)\n",
    "        \n",
    "    elif strategy == 'drop_na':\n",
    "        df = df.dropna()\n",
    "        \n",
    "    if strategy != 'drop_na':\n",
    "        for col in na_cols:\n",
    "            df[col] = imp_strategy.fit_transform(df[[col]])\n",
    "        \n",
    "    print(df.isnull().sum())\n",
    "    \n",
    "    fig, ax = plt.subplots(figsize=(16,8))\n",
    "    corr_diff = df.corr() - df_original.corr()\n",
    "    sns.heatmap(corr_diff[abs(corr_diff) > 0.000099], ax=ax, annot=True, fmt=\".4f\")\n",
    "    \n",
    "    return df"
   ]
  },
  {
   "cell_type": "code",
   "execution_count": null,
   "id": "e5502a39-60b0-4053-a2d1-60703e375a85",
   "metadata": {},
   "outputs": [],
   "source": [
    "# prekodovanie textu locacie n číslo \n",
    "ce_ordinal = ce.OrdinalEncoder(cols=['location'])\n",
    "df_ml = ce_ordinal.fit_transform(df)"
   ]
  },
  {
   "cell_type": "markdown",
   "id": "1566e7c3-f3d7-4613-b9da-e87c6579ada2",
   "metadata": {},
   "source": [
    "### Drop nans"
   ]
  },
  {
   "cell_type": "code",
   "execution_count": null,
   "id": "f5961099-2c10-4a3d-b430-890607ceb93f",
   "metadata": {},
   "outputs": [],
   "source": [
    "df_ml_dropedNa = replaceNaN(df_ml, 'drop_na')"
   ]
  },
  {
   "cell_type": "markdown",
   "id": "090288e5-2157-4747-a7d6-5b629737da8c",
   "metadata": {},
   "source": [
    "### Mean"
   ]
  },
  {
   "cell_type": "code",
   "execution_count": null,
   "id": "c6a29726-4db4-4861-ab27-8de3fb79e15e",
   "metadata": {},
   "outputs": [],
   "source": [
    "df_ml_na_mean = replaceNaN(df_ml, 'mean')"
   ]
  },
  {
   "cell_type": "markdown",
   "id": "0336abf9-8cbe-45f0-8569-786cfff15fa1",
   "metadata": {},
   "source": [
    "### Median"
   ]
  },
  {
   "cell_type": "code",
   "execution_count": null,
   "id": "cffa7943-0523-44c4-9257-be9d8f84dbd9",
   "metadata": {},
   "outputs": [],
   "source": [
    "df_ml_na_median = replaceNaN(df_ml, 'median')"
   ]
  },
  {
   "cell_type": "markdown",
   "id": "69693b01-3825-434c-bc6e-54b51128f669",
   "metadata": {},
   "source": [
    "### kNN"
   ]
  },
  {
   "cell_type": "code",
   "execution_count": null,
   "id": "c8b2da80-506a-4f53-8cbf-92d47dbd918e",
   "metadata": {},
   "outputs": [],
   "source": [
    "df_ml_na_knn = replaceNaN(df_ml, 'kNN')"
   ]
  },
  {
   "cell_type": "markdown",
   "id": "c8e07cdd-62d9-42a4-8eb5-05c3ea8b21b4",
   "metadata": {},
   "source": [
    "## Deleting outliers vlaues"
   ]
  },
  {
   "cell_type": "code",
   "execution_count": null,
   "id": "1209f3f7-dd50-459d-a04b-5c199a056ca1",
   "metadata": {},
   "outputs": [],
   "source": [
    "df_ml_na_knn.plot(kind='box', subplots=True, layout=(7, 3), sharex=False, sharey=False, figsize=(20, 60))\n"
   ]
  },
  {
   "cell_type": "code",
   "execution_count": null,
   "id": "c3c6b9e4-e6b2-4035-bf17-f11e14eb75ac",
   "metadata": {
    "tags": []
   },
   "outputs": [],
   "source": [
    "outliers_limit_low = 0\n",
    "outliers_limit_up = 0\n",
    "def identify_outliers(df):\n",
    "    \n",
    "    Qa = df.quantile(0.05)\n",
    "    Qb = df.quantile(0.95)\n",
    "    IQR = Qb - Qa\n",
    "    \n",
    "    global outliers_limit_low\n",
    "    outliers_limit_low = (Qa - 1.5 * IQR)\n",
    "    global outliers_limit_up \n",
    "    outliers_limit_up = (Qb + 1.5 * IQR)\n",
    "    \n",
    "    return ((df < outliers_limit_low) | (df > outliers_limit_up)).sum()"
   ]
  },
  {
   "cell_type": "code",
   "execution_count": null,
   "id": "96f6d878-1fdd-493c-94ae-efac06930f07",
   "metadata": {},
   "outputs": [],
   "source": [
    "identify_outliers(df_ml_na_knn)"
   ]
  },
  {
   "cell_type": "code",
   "execution_count": null,
   "id": "30fcffc6-059b-42d6-afae-c5e22d98b546",
   "metadata": {},
   "outputs": [],
   "source": [
    "outliers_limit_low"
   ]
  },
  {
   "cell_type": "code",
   "execution_count": null,
   "id": "84a9e79d-2c05-4e95-910e-966268a8d117",
   "metadata": {},
   "outputs": [],
   "source": [
    "outliers_limit_up"
   ]
  },
  {
   "cell_type": "code",
   "execution_count": null,
   "id": "e5273c05-0612-4d1a-9e63-9bd8bf3aac67",
   "metadata": {},
   "outputs": [],
   "source": [
    "def replace_outliers(df_original):\n",
    "    df = df_original.copy()\n",
    "    \n",
    "    for col in df.columns:\n",
    "\n",
    "        low = outliers_limit_low[col]\n",
    "        up = outliers_limit_up[col]\n",
    "        df[col] = np.where(df[col] < low, low, df[col])\n",
    "        df[col] = np.where(df[col] > up, up, df[col])\n",
    "        \n",
    "    return df"
   ]
  },
  {
   "cell_type": "code",
   "execution_count": null,
   "id": "8b3ba015-3d0d-43ec-a898-f9b60cf2f222",
   "metadata": {},
   "outputs": [],
   "source": [
    "df_ml_na_knn_notOutliers = replace_outliers(df_ml_na_knn)"
   ]
  },
  {
   "cell_type": "code",
   "execution_count": null,
   "id": "6063b72a-2b88-4423-a46a-d516b15111be",
   "metadata": {},
   "outputs": [],
   "source": [
    "identify_outliers(df_ml_na_knn_notOutliers)"
   ]
  }
 ],
 "metadata": {
  "kernelspec": {
   "display_name": "Python 3 (ipykernel)",
   "language": "python",
   "name": "python3"
  },
  "language_info": {
   "codemirror_mode": {
    "name": "ipython",
    "version": 3
   },
   "file_extension": ".py",
   "mimetype": "text/x-python",
   "name": "python",
   "nbconvert_exporter": "python",
   "pygments_lexer": "ipython3",
   "version": "3.10.6"
  }
 },
 "nbformat": 4,
 "nbformat_minor": 5
}
