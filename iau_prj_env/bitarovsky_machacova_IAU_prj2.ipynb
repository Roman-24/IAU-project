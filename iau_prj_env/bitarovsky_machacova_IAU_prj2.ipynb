{
 "cells": [
  {
   "cell_type": "markdown",
   "id": "03800150-2d8f-4045-a693-1d21b59e804d",
   "metadata": {},
   "source": [
    "# IAU projekt"
   ]
  },
  {
   "cell_type": "markdown",
   "id": "88b4c4ea-39f7-4166-95e3-e8f91e4d949f",
   "metadata": {},
   "source": [
    "> Rovnakým podieľom práce vypracovali: <br>\n",
    "> Roman Bitarovský, Emma Macháčová"
   ]
  },
  {
   "cell_type": "markdown",
   "id": "401c29c6-7f8c-4695-9b9e-1260fe82777d",
   "metadata": {},
   "source": [
    "# Fáza 2 Predspracovanie údajov <a name=\"faza2\"></a>\n",
    "## 2.1 Integrácia a čistenie dát (5b) <a name=\"\"></a>\n",
    "Transformujte dáta na vhodný formát pre strojové učenie t.j. jedno pozorovanie musí byť opísané jedným riadkom a každý atribút musí byť v numerickom formáte. \n",
    "* Pri riešení chýbajúcich hodnôt (missing values) vyskúšajte rôzne stratégie ako napr.\n",
    "    * odstránenie pozorovaní s chýbajúcimi údajmi\n",
    "    * nahradenie chýbajúcej hodnoty mediánom, priemerom, pomerom (ku korelovanému atribútu), alebo pomocou lineárnej regresie resp. kNN\n",
    "* Podobne postupujte aj pri riešení vychýlených hodnôt (outlier detection):\n",
    "    * odstránenie vychýlených (odľahlých) pozorovaní\n",
    "    * nahradenie vychýlenej hodnoty hraničnými hodnotami rozdelenia (5% resp. 95%)"
   ]
  },
  {
   "cell_type": "code",
   "execution_count": 1,
   "id": "08a449a6-83ed-4172-a866-1de19b8fa8f0",
   "metadata": {},
   "outputs": [
    {
     "ename": "NameError",
     "evalue": "name 'pause' is not defined",
     "output_type": "error",
     "traceback": [
      "\u001b[0;31m---------------------------------------------------------------------------\u001b[0m",
      "\u001b[0;31mNameError\u001b[0m                                 Traceback (most recent call last)",
      "Cell \u001b[0;32mIn [1], line 1\u001b[0m\n\u001b[0;32m----> 1\u001b[0m \u001b[43mpause\u001b[49m\n",
      "\u001b[0;31mNameError\u001b[0m: name 'pause' is not defined"
     ]
    }
   ],
   "source": [
    "pause"
   ]
  },
  {
   "cell_type": "code",
   "execution_count": null,
   "id": "62d53e1b-f4d7-46b4-956f-bbd90a8a3037",
   "metadata": {},
   "outputs": [],
   "source": [
    "# čo sa myslí tou transformáciou dát na jeden riadok ? "
   ]
  },
  {
   "cell_type": "markdown",
   "id": "8344e4ef-bf7a-4a03-9614-b6f3f23fa673",
   "metadata": {},
   "source": [
    "# Data init"
   ]
  },
  {
   "cell_type": "code",
   "execution_count": null,
   "id": "d3283a09-1bbb-4c16-9a19-e162077e5e62",
   "metadata": {},
   "outputs": [],
   "source": [
    "import matplotlib.pyplot as plt\n",
    "import seaborn as sns\n",
    "import pandas as pd\n",
    "import numpy as np\n",
    "import scipy.stats as stats\n",
    "import statsmodels.api as sm\n",
    "import statsmodels.stats.api as sms\n",
    "import statsmodels.stats as sm_stats\n",
    "from scipy.stats import mannwhitneyu\n",
    "from scipy.stats import f_oneway\n",
    "\n",
    "import datetime\n",
    "import re\n",
    "import category_encoders as ce\n",
    "from sklearn.impute import SimpleImputer, KNNImputer\n",
    "from numpy import percentile\n",
    "\n",
    "from sklearn.preprocessing import PowerTransformer, QuantileTransformer\n",
    "\n",
    "from sklearn.feature_selection import VarianceThreshold, SelectKBest, SelectPercentile, SelectFromModel\n",
    "from sklearn.feature_selection import mutual_info_regression, chi2, f_regression, f_classif\n",
    "from sklearn.ensemble import RandomForestClassifier\n",
    "\n",
    "from sklearn.preprocessing import StandardScaler, MinMaxScaler\n",
    "\n",
    "from sklearn.base import TransformerMixin\n",
    "from sklearn.pipeline import Pipeline\n",
    "from sklearn.model_selection import train_test_split"
   ]
  },
  {
   "cell_type": "code",
   "execution_count": null,
   "id": "d22d4502-5363-424b-bc0b-7defa57eda63",
   "metadata": {},
   "outputs": [],
   "source": [
    "labor_measurements = pd.read_csv('../081/measurements.csv', sep='\\t')\n",
    "labor_stations = pd.read_csv('../081/stations.csv', sep='\\t')"
   ]
  },
  {
   "cell_type": "code",
   "execution_count": null,
   "id": "aa77e3ec-c960-411d-846b-20b5e3ae3d9f",
   "metadata": {},
   "outputs": [],
   "source": [
    "labor_stations[\"QoS\"].replace({\"acceptable\": \"accep\", \"maitennce\": \"maintenance\"}, inplace=True)\n",
    "labor_stations['revision'] = pd.to_datetime(labor_stations['revision'], utc=False)\n",
    "\n",
    "labor_measurements.replace('', np.nan, inplace=True)\n",
    "labor_stations.replace('', np.nan, inplace=True)\n",
    "\n",
    "labor_measurements = labor_measurements.drop_duplicates()\n",
    "labor_stations = labor_stations.drop_duplicates()\n",
    "\n",
    "# merge preprocesing\n",
    "labor_stations = labor_stations.drop(columns=['revision', 'code', 'QoS'])\n",
    "labor_stations = labor_stations.drop_duplicates()\n",
    "\n",
    "# Table merge\n",
    "df = pd.merge(labor_measurements, labor_stations, how='inner', left_on=['latitude', 'longitude'], right_on=['latitude', 'longitude'])\n",
    "\n",
    "df = df.drop(columns=['latitude', 'longitude'])\n",
    "df = df[['location', 'warning', 'TEMP', 'PRES', 'PM2.5', 'NOx', 'PM10', 'C2H3NO5', 'CH4', 'Pb', 'NH3', 'SO2', 'O3', 'CO', 'PAHs', 'H2CO', 'CFCs']]\n",
    "\n",
    "df.head()"
   ]
  },
  {
   "cell_type": "code",
   "execution_count": null,
   "id": "a45ffb9e-c8cb-4fce-94dc-b0e1019562a4",
   "metadata": {},
   "outputs": [],
   "source": [
    "df.info()"
   ]
  },
  {
   "cell_type": "code",
   "execution_count": null,
   "id": "6f769a6c-0bbb-4ca3-9099-000ed4d27d3b",
   "metadata": {},
   "outputs": [],
   "source": [
    "df_notNa = df.dropna()\n",
    "df_notNa.info()"
   ]
  },
  {
   "cell_type": "code",
   "execution_count": null,
   "id": "e0d6f6e7-624f-4c16-898f-03eb91609140",
   "metadata": {},
   "outputs": [],
   "source": [
    "df_notNa.corr() - df.corr()"
   ]
  },
  {
   "cell_type": "markdown",
   "id": "090288e5-2157-4747-a7d6-5b629737da8c",
   "metadata": {},
   "source": [
    "### Mean"
   ]
  },
  {
   "cell_type": "code",
   "execution_count": null,
   "id": "e5502a39-60b0-4053-a2d1-60703e375a85",
   "metadata": {},
   "outputs": [],
   "source": [
    "ce_ordinal = ce.OrdinalEncoder(cols=['location'])\n",
    "df_ml = ce_ordinal.fit_transform(df)"
   ]
  },
  {
   "cell_type": "code",
   "execution_count": null,
   "id": "c6a29726-4db4-4861-ab27-8de3fb79e15e",
   "metadata": {},
   "outputs": [],
   "source": [
    "df_na_mean = df_ml.copy()\n",
    "\n",
    "imp_mean = SimpleImputer(missing_values=np.nan, strategy='mean')\n",
    "\n",
    "imp_mean.fit(df_na_mean)\n",
    "\n",
    "imp_mean.transform(df_na_mean)"
   ]
  },
  {
   "cell_type": "code",
   "execution_count": null,
   "id": "b825d8ac-2750-40d6-9557-c000ed15e3eb",
   "metadata": {},
   "outputs": [],
   "source": [
    "df_na_mean.isnull().sum()"
   ]
  },
  {
   "cell_type": "code",
   "execution_count": null,
   "id": "12b468e1-a76d-4e3a-9b79-220ece539ac5",
   "metadata": {},
   "outputs": [],
   "source": []
  }
 ],
 "metadata": {
  "kernelspec": {
   "display_name": "Python 3 (ipykernel)",
   "language": "python",
   "name": "python3"
  },
  "language_info": {
   "codemirror_mode": {
    "name": "ipython",
    "version": 3
   },
   "file_extension": ".py",
   "mimetype": "text/x-python",
   "name": "python",
   "nbconvert_exporter": "python",
   "pygments_lexer": "ipython3",
   "version": "3.10.6"
  }
 },
 "nbformat": 4,
 "nbformat_minor": 5
}
